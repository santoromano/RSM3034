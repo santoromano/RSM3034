{
 "cells": [
  {
   "cell_type": "markdown",
   "id": "f92eedb8-98ef-4a39-b6c5-b51de1870b5a",
   "metadata": {},
   "source": [
    "# Assignment 1\n",
    "## Recreate Fama-French (1993) SMB and HML factors "
   ]
  },
  {
   "cell_type": "markdown",
   "id": "6d6f5253-52f5-4ab0-8e39-86c208d387b3",
   "metadata": {},
   "source": [
    "### Replication Procedure\n",
    "1) Main data required is monthly returns, market equity, and book equity\n",
    "    \n",
    "    a) Use all non-financial firms (shrcd = 11, 12) which intersect the NYSE, AMEX and NASDAQ (exchcd = 1,2,3) from CRSP and the merged COMPUSTAT database for the financial statement data\n",
    "    \n",
    "    b) Data starts in 1962, however end of June of 1963 is first year, with t-1 data being from 1962  \n",
    "    \n",
    "2) Clean data appropriately\n",
    "    a) BE is defined as COMPUSTATs book value of stockholders equity + balance-sheet deferred taxes - book value of preferred stock\n",
    "    \n",
    "    b) Negative BE firms are excluded\n",
    "\n",
    "3) Organize necessary variables for each stock:\n",
    "\n",
    "    a) Compute B/M_t as BE divided ME (both) in December of year t-1   \n",
    "    \n",
    "    b) ME_t as of June of year t\n",
    "    \n",
    "    c) All above variables are in logs\n",
    "    \n",
    "    d) Returns are computed monthly\n",
    "\n",
    "4) Sort stocks based on Size and B/M\n",
    "    \n",
    "    a) B/M divded into Low, Medium and High, with the distinction for low as the lowest 30%, and high the highest 30%\n",
    "    \n",
    "    b) Size divided into Small and Big, with the distinction being the NYSE median breakpoint in June of year t\n",
    "    \n",
    "5) Compute value-weighted portfolio return from July of year t to June of year t+1, where the portfolio is rebalanced in June of t+1\n",
    "\n",
    "6) Compute HML factor as the difference between the average portfolio returns for the High, Small and Big portfolios and the Low, Small and Big portfolios\n",
    "\n",
    "7) Compute the SMB factor as the different between the average portfolio returns for the Small, L, M and H portfolios and the Big, L, M and H portfolios"
   ]
  },
  {
   "cell_type": "markdown",
   "id": "3935dd9f-6698-4d13-a61e-49ecf16e9d03",
   "metadata": {},
   "source": [
    "### Data"
   ]
  },
  {
   "cell_type": "markdown",
   "id": "822a7337-815b-4694-a8bf-d8e443e1f7e8",
   "metadata": {},
   "source": [
    "**CRSP Data Fields**\n",
    "\n",
    "PERMNO - unique security identifier\n",
    "\n",
    "PRC - closing price\n",
    "\n",
    "SHROUT - shares outstanding\n",
    "\n",
    "Market Cap = PRC * SHROUT\n",
    "\n",
    "**COMPUSTAT Data Fields**\n",
    "North America File:\n",
    "\n",
    "GVKEY - unique security identifier\n",
    "\n",
    "IID - security ID\n",
    "\n",
    "Unique Security Identifier = concat(GVKEY, IID)\n",
    "\n",
    "EXCHG - Exchange Code\n"
   ]
  },
  {
   "cell_type": "code",
   "execution_count": 63,
   "id": "676e93a1-cca6-493e-a4c7-3729a247301f",
   "metadata": {},
   "outputs": [],
   "source": [
    "# Imports\n",
    "import pandas as pd\n",
    "import numpy as np\n",
    "import datetime as dt\n",
    "import matplotlib.pyplot as plt\n",
    "from dateutil.relativedelta import *\n",
    "from pandas.tseries.offsets import *"
   ]
  },
  {
   "cell_type": "markdown",
   "id": "d89e606b-8420-4770-9892-3f470b8e6130",
   "metadata": {},
   "source": [
    "#### Link to WRDS"
   ]
  },
  {
   "cell_type": "code",
   "execution_count": 64,
   "id": "332bfb4e-29e6-4948-a1df-fecd338baa03",
   "metadata": {},
   "outputs": [
    {
     "name": "stdout",
     "output_type": "stream",
     "text": [
      "Loading library list...\n",
      "Done\n"
     ]
    }
   ],
   "source": [
    "import wrds\n",
    "conn = wrds.Connection(wrds_username=\"santoromano\")\n",
    "# conn.create_pgpass_file()"
   ]
  },
  {
   "cell_type": "markdown",
   "id": "71300f8f-ffdd-4d67-929d-34ed4ed37c80",
   "metadata": {},
   "source": [
    "#### Imports and Cleans COMPUSTAT Data"
   ]
  },
  {
   "cell_type": "code",
   "execution_count": 65,
   "id": "e19a8d97-6b68-40c9-a45d-9527c46d7782",
   "metadata": {},
   "outputs": [],
   "source": [
    "comp = conn.raw_sql(\"\"\"\n",
    "                    select gvkey, datadate, at, pstkl, txditc, pstkrv, seq, pstk\n",
    "                    from comp.funda\n",
    "                    where indfmt='INDL' \n",
    "                    and datafmt='STD'\n",
    "                    and popsrc='D'\n",
    "                    and consol='C'\n",
    "                    and datadate >= '01/01/1959'\n",
    "                    \"\"\", \n",
    "                    date_cols=['datadate'])\n",
    "comp['year'] = comp['datadate'].dt.year"
   ]
  },
  {
   "cell_type": "code",
   "execution_count": 66,
   "id": "cb8c5a5b-7a39-4e00-b6f9-37c4ed508c2a",
   "metadata": {},
   "outputs": [],
   "source": [
    "# create preferrerd stock\n",
    "comp['ps']=np.where(comp['pstkrv'].isnull(), comp['pstkl'], comp['pstkrv'])\n",
    "comp['ps']=np.where(comp['ps'].isnull(),comp['pstk'], comp['ps'])\n",
    "comp['ps']=np.where(comp['ps'].isnull(),0,comp['ps'])\n",
    "comp['txditc']=comp['txditc'].fillna(0)"
   ]
  },
  {
   "cell_type": "code",
   "execution_count": 67,
   "id": "9018a4e4-e823-4393-ab10-8c46ede568b1",
   "metadata": {},
   "outputs": [],
   "source": [
    "# create book equity\n",
    "comp['be']=comp['seq']+comp['txditc']-comp['ps']\n",
    "comp['be']=np.where(comp['be']>0, comp['be'], np.nan)"
   ]
  },
  {
   "cell_type": "code",
   "execution_count": 68,
   "id": "c3fd8d08-be5b-40f5-9bd4-f4647835312a",
   "metadata": {},
   "outputs": [],
   "source": [
    "# number of years in Compustat\n",
    "comp=comp.sort_values(by=['gvkey','datadate'])\n",
    "comp['count']=comp.groupby(['gvkey']).cumcount()\n",
    "\n",
    "comp=comp[['gvkey','datadate','year','be','count']]"
   ]
  },
  {
   "cell_type": "code",
   "execution_count": 70,
   "id": "e962e25b-e4a1-425a-bc4f-dbfde80cccc3",
   "metadata": {},
   "outputs": [],
   "source": [
    "# Stores cleaned COMPUSTAT data locally\n",
    "comp.to_pickle(\"compustat_data.pkl\")"
   ]
  },
  {
   "cell_type": "markdown",
   "id": "529420b9-4ec9-4594-8866-d306d4b65d65",
   "metadata": {},
   "source": [
    "#### Imports and Cleans CRSP Data"
   ]
  },
  {
   "cell_type": "code",
   "execution_count": 69,
   "id": "3c7db6c6-0da7-4fb2-a240-e5778c6d1249",
   "metadata": {},
   "outputs": [],
   "source": [
    "crsp_m = conn.raw_sql(\"\"\"\n",
    "                      select a.permno, a.permco, a.date, b.shrcd, b.exchcd,\n",
    "                      a.ret, a.retx, a.shrout, a.prc\n",
    "                      from crsp.msf as a\n",
    "                      left join crsp.msenames as b\n",
    "                      on a.permno=b.permno\n",
    "                      and b.namedt<=a.date\n",
    "                      and a.date<=b.nameendt\n",
    "                      where a.date between '01/01/1959' and '12/31/2022'\n",
    "                      and b.exchcd between 1 and 3\n",
    "                      \"\"\", date_cols=['date']) \n",
    "\n",
    "# change variable format to int\n",
    "crsp_m[['permco','permno','shrcd','exchcd']]=crsp_m[['permco','permno','shrcd','exchcd']].astype(int)\n",
    "\n",
    "# Line up date to be end of month\n",
    "crsp_m['jdate']=crsp_m['date']+MonthEnd(0)"
   ]
  },
  {
   "cell_type": "code",
   "execution_count": 71,
   "id": "7f275d54-39d9-4f62-91b4-5ec4353910b6",
   "metadata": {},
   "outputs": [],
   "source": [
    "# add delisting return\n",
    "dlret = conn.raw_sql(\"\"\"\n",
    "                     select permno, dlret, dlstdt \n",
    "                     from crsp.msedelist\n",
    "                     \"\"\", date_cols=['dlstdt'])\n",
    "\n",
    "dlret.permno=dlret.permno.astype(int)\n",
    "#dlret['dlstdt']=pd.to_datetime(dlret['dlstdt'])\n",
    "dlret['jdate']=dlret['dlstdt']+MonthEnd(0)\n",
    "\n",
    "crsp = pd.merge(crsp_m, dlret, how='left',on=['permno','jdate'])\n",
    "crsp['dlret']=crsp['dlret'].fillna(0)\n",
    "crsp['ret']=crsp['ret'].fillna(0)\n",
    "\n",
    "# retadj factors in the delisting returns\n",
    "crsp['retadj']=(1+crsp['ret'])*(1+crsp['dlret'])-1\n",
    "\n",
    "# calculate market equity\n",
    "crsp['me']=crsp['prc'].abs()*crsp['shrout'] \n",
    "crsp=crsp.drop(['dlret','dlstdt','prc','shrout'], axis=1)\n",
    "crsp=crsp.sort_values(by=['jdate','permco','me'])"
   ]
  },
  {
   "cell_type": "code",
   "execution_count": 72,
   "id": "496b5fae-cc3e-4313-a8f8-e474fd93ffa2",
   "metadata": {},
   "outputs": [],
   "source": [
    "# Aggreate Market Cap\n",
    "\n",
    "# sum ME across different permno for same permco for a given date \n",
    "crsp_summe = crsp.groupby(['jdate','permco'])['me'].sum().reset_index()\n",
    "\n",
    "# largest mktcap within a permco/date\n",
    "crsp_maxme = crsp.groupby(['jdate','permco'])['me'].max().reset_index()\n",
    "\n",
    "# join by jdate/maxme to find the permno\n",
    "crsp1=pd.merge(crsp, crsp_maxme, how='inner', on=['jdate','permco','me'])\n",
    "\n",
    "# drop me column and replace with the sum me\n",
    "crsp1=crsp1.drop(['me'], axis=1)\n",
    "\n",
    "# join with sum of me to get the correct market cap info\n",
    "crsp2=pd.merge(crsp1, crsp_summe, how='inner', on=['jdate','permco'])\n",
    "\n",
    "# sort by permno and date and also drop duplicates\n",
    "crsp2=crsp2.sort_values(by=['permno','jdate']).drop_duplicates()"
   ]
  },
  {
   "cell_type": "code",
   "execution_count": 73,
   "id": "e24dfcf8-2a80-4f2f-a04e-7972111748a4",
   "metadata": {},
   "outputs": [],
   "source": [
    "# keep December market cap\n",
    "crsp2['year']=crsp2['jdate'].dt.year\n",
    "crsp2['month']=crsp2['jdate'].dt.month\n",
    "decme=crsp2[crsp2['month']==12]\n",
    "decme=decme[['permno','date','jdate','me','year']].rename(columns={'me':'dec_me'})\n",
    "\n",
    "# July to June dates\n",
    "crsp2['ffdate']=crsp2['jdate']+MonthEnd(-6)\n",
    "crsp2['ffyear']=crsp2['ffdate'].dt.year\n",
    "crsp2['ffmonth']=crsp2['ffdate'].dt.month\n",
    "crsp2['1+retx']=1+crsp2['retx']\n",
    "crsp2=crsp2.sort_values(by=['permno','date'])"
   ]
  },
  {
   "cell_type": "code",
   "execution_count": 74,
   "id": "39200bf4-38e3-4b27-a444-cfc8e32ee7c6",
   "metadata": {},
   "outputs": [],
   "source": [
    "# cumret by stock\n",
    "crsp2['cumretx']=crsp2.groupby(['permno','ffyear'])['1+retx'].cumprod()\n",
    "\n",
    "# lag cumret\n",
    "crsp2['lcumretx']=crsp2.groupby(['permno'])['cumretx'].shift(1)\n",
    "\n",
    "# lag market cap\n",
    "crsp2['lme']=crsp2.groupby(['permno'])['me'].shift(1)\n",
    "\n",
    "# if first permno then use me/(1+retx) to replace the missing value\n",
    "crsp2['count']=crsp2.groupby(['permno']).cumcount()\n",
    "crsp2['lme']=np.where(crsp2['count']==0, crsp2['me']/crsp2['1+retx'], crsp2['lme'])\n",
    "\n",
    "# baseline me\n",
    "mebase=crsp2[crsp2['ffmonth']==1][['permno','ffyear', 'lme']].rename(columns={'lme':'mebase'})\n",
    "\n",
    "# merge result back together\n",
    "crsp3=pd.merge(crsp2, mebase, how='left', on=['permno','ffyear'])\n",
    "crsp3['wt']=np.where(crsp3['ffmonth']==1, crsp3['lme'], crsp3['mebase']*crsp3['lcumretx'])\n",
    "\n",
    "decme['year']=decme['year']+1\n",
    "decme=decme[['permno','year','dec_me']]"
   ]
  },
  {
   "cell_type": "code",
   "execution_count": 75,
   "id": "01a07622-77b1-4dbc-93cf-61c8d48b5062",
   "metadata": {},
   "outputs": [],
   "source": [
    "# Info as of June\n",
    "crsp3_jun = crsp3[crsp3['month']==6]\n",
    "\n",
    "crsp_jun = pd.merge(crsp3_jun, decme, how='inner', on=['permno','year'])\n",
    "crsp_jun=crsp_jun[['permno','date', 'jdate', 'shrcd','exchcd','retadj','me','wt','cumretx','mebase','lme','dec_me']]\n",
    "crsp_jun=crsp_jun.sort_values(by=['permno','jdate']).drop_duplicates()"
   ]
  },
  {
   "cell_type": "code",
   "execution_count": 76,
   "id": "4d46a7a8-b5cc-43a0-9f0e-e805bca2daee",
   "metadata": {},
   "outputs": [],
   "source": [
    "# Stores cleaned CRSP data locally\n",
    "crsp.to_pickle(\"crsp_data.pkl\")"
   ]
  },
  {
   "cell_type": "markdown",
   "id": "0a53beb0-a249-4ed5-addc-89ca47b8901e",
   "metadata": {},
   "source": [
    "#### Merge CRSP and Compustat\n",
    "Merge with CCM Link Table"
   ]
  },
  {
   "cell_type": "markdown",
   "id": "7a29fd3d-b79a-4871-95f6-b2b921273bd5",
   "metadata": {},
   "source": [
    "##### Reads COMPUSTAT and CRSP Data locally"
   ]
  },
  {
   "cell_type": "code",
   "execution_count": null,
   "id": "299daf6d-4521-4c55-9dc6-552a33820484",
   "metadata": {},
   "outputs": [],
   "source": []
  },
  {
   "cell_type": "code",
   "execution_count": null,
   "id": "9f4be3e2-05ac-4947-8235-657c8f0369ec",
   "metadata": {},
   "outputs": [],
   "source": [
    "ccm=conn.raw_sql(\"\"\"\n",
    "                  select gvkey, lpermno as permno, linktype, linkprim, \n",
    "                  linkdt, linkenddt\n",
    "                  from crsp.ccmxpf_linktable\n",
    "                  where substr(linktype,1,1)='L'\n",
    "                  and (linkprim ='C' or linkprim='P')\n",
    "                  \"\"\", date_cols=['linkdt', 'linkenddt'])\n",
    "\n",
    "# if linkenddt is missing then set to today date\n",
    "ccm['linkenddt']=ccm['linkenddt'].fillna(pd.to_datetime('today'))\n",
    "\n",
    "ccm1=pd.merge(comp[['gvkey','datadate','be', 'count']],ccm,how='left',on=['gvkey'])\n",
    "ccm1['yearend']=ccm1['datadate']+YearEnd(0)\n",
    "ccm1['jdate']=ccm1['yearend']+MonthEnd(6)"
   ]
  },
  {
   "cell_type": "code",
   "execution_count": null,
   "id": "5cf3df91-cfe2-4571-8057-7671d985bdd8",
   "metadata": {},
   "outputs": [],
   "source": []
  },
  {
   "cell_type": "code",
   "execution_count": null,
   "id": "90375bbb-8a13-4f4b-9545-8650ac669376",
   "metadata": {},
   "outputs": [],
   "source": []
  },
  {
   "cell_type": "code",
   "execution_count": null,
   "id": "d69fbc6d-f281-429e-b679-d58788d6826f",
   "metadata": {},
   "outputs": [],
   "source": []
  },
  {
   "cell_type": "code",
   "execution_count": null,
   "id": "c3af2c9f-3c65-488a-a25d-daf610f4016a",
   "metadata": {},
   "outputs": [],
   "source": []
  },
  {
   "cell_type": "code",
   "execution_count": null,
   "id": "30fb9d78-eb84-46d9-8365-731916bd2043",
   "metadata": {},
   "outputs": [],
   "source": []
  },
  {
   "cell_type": "markdown",
   "id": "3dd14dcd-a262-4dc4-b51c-928cbd744ed7",
   "metadata": {},
   "source": [
    "#### Ken French Data"
   ]
  },
  {
   "cell_type": "code",
   "execution_count": null,
   "id": "b857eedf-fefc-494d-aefb-cb31016843b6",
   "metadata": {},
   "outputs": [],
   "source": []
  },
  {
   "cell_type": "code",
   "execution_count": null,
   "id": "e013332b-56e7-4cfc-ad5e-251a28001abc",
   "metadata": {},
   "outputs": [],
   "source": []
  },
  {
   "cell_type": "code",
   "execution_count": null,
   "id": "0aa97e1a-5965-4027-b02a-7703bd6b06c1",
   "metadata": {},
   "outputs": [],
   "source": []
  }
 ],
 "metadata": {
  "kernelspec": {
   "display_name": "Python 3 (ipykernel)",
   "language": "python",
   "name": "python3"
  },
  "language_info": {
   "codemirror_mode": {
    "name": "ipython",
    "version": 3
   },
   "file_extension": ".py",
   "mimetype": "text/x-python",
   "name": "python",
   "nbconvert_exporter": "python",
   "pygments_lexer": "ipython3",
   "version": "3.9.12"
  }
 },
 "nbformat": 4,
 "nbformat_minor": 5
}
