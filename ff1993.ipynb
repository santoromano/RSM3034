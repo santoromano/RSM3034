{
 "cells": [
  {
   "cell_type": "markdown",
   "id": "f92eedb8-98ef-4a39-b6c5-b51de1870b5a",
   "metadata": {},
   "source": [
    "# Assignment 1\n",
    "## Recreate Fama-French (1993) SMB and HML factors "
   ]
  },
  {
   "cell_type": "code",
   "execution_count": null,
   "id": "676e93a1-cca6-493e-a4c7-3729a247301f",
   "metadata": {},
   "outputs": [],
   "source": []
  },
  {
   "cell_type": "code",
   "execution_count": null,
   "id": "ca11707a-5bda-4806-81d4-16736897b6c3",
   "metadata": {},
   "outputs": [],
   "source": []
  },
  {
   "cell_type": "code",
   "execution_count": null,
   "id": "5a1cabc3-f95e-405b-8202-a3598e7f4213",
   "metadata": {},
   "outputs": [],
   "source": []
  }
 ],
 "metadata": {
  "kernelspec": {
   "display_name": "Python 3 (ipykernel)",
   "language": "python",
   "name": "python3"
  },
  "language_info": {
   "codemirror_mode": {
    "name": "ipython",
    "version": 3
   },
   "file_extension": ".py",
   "mimetype": "text/x-python",
   "name": "python",
   "nbconvert_exporter": "python",
   "pygments_lexer": "ipython3",
   "version": "3.9.12"
  }
 },
 "nbformat": 4,
 "nbformat_minor": 5
}
