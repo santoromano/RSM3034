{
 "cells": [
  {
   "cell_type": "markdown",
   "id": "7a9a8731-b4d0-42a5-944e-000f23796070",
   "metadata": {},
   "source": [
    "# Assignment 2\n",
    "## Replicate Goyal & Welch (2008)"
   ]
  },
  {
   "cell_type": "code",
   "execution_count": null,
   "id": "f60a2196-80af-4c7a-bcc9-a924460b7737",
   "metadata": {},
   "outputs": [],
   "source": []
  },
  {
   "cell_type": "code",
   "execution_count": null,
   "id": "f68444e9-3d57-4972-9a28-8a1eac4318c4",
   "metadata": {},
   "outputs": [],
   "source": []
  },
  {
   "cell_type": "code",
   "execution_count": null,
   "id": "62b5a519-290e-404c-a0cb-215a75194b35",
   "metadata": {},
   "outputs": [],
   "source": []
  }
 ],
 "metadata": {
  "kernelspec": {
   "display_name": "Python 3 (ipykernel)",
   "language": "python",
   "name": "python3"
  },
  "language_info": {
   "codemirror_mode": {
    "name": "ipython",
    "version": 3
   },
   "file_extension": ".py",
   "mimetype": "text/x-python",
   "name": "python",
   "nbconvert_exporter": "python",
   "pygments_lexer": "ipython3",
   "version": "3.9.12"
  }
 },
 "nbformat": 4,
 "nbformat_minor": 5
}
